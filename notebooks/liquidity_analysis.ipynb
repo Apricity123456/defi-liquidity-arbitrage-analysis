{
 "cells": [
  {
   "cell_type": "code",
   "execution_count": 22,
   "id": "dc667fa3-b954-4e58-8e39-90b851a58a30",
   "metadata": {},
   "outputs": [
    {
     "name": "stderr",
     "output_type": "stream",
     "text": [
      "Traceback (most recent call last):\n",
      "  File \"C:\\Users\\jdhjd\\Desktop\\defi-liquidity-arbitrage-analysis\\src\\fetch_data.py\", line 35, in <module>\n",
      "    print(f\"\\u2705 数据已成功保存到 {csv_path}\")\n",
      "UnicodeEncodeError: 'gbk' codec can't encode character '\\u2705' in position 0: illegal multibyte sequence\n"
     ]
    }
   ],
   "source": [
    "# 运行数据抓取脚本\n",
    "\n",
    "!python ../src/fetch_data.py\n",
    "\n"
   ]
  },
  {
   "cell_type": "code",
   "execution_count": null,
   "id": "3c2b88cd-1b7b-4c9e-9952-50a75939bb7a",
   "metadata": {},
   "outputs": [],
   "source": []
  }
 ],
 "metadata": {
  "kernelspec": {
   "display_name": "Python 3 (ipykernel)",
   "language": "python",
   "name": "python3"
  },
  "language_info": {
   "codemirror_mode": {
    "name": "ipython",
    "version": 3
   },
   "file_extension": ".py",
   "mimetype": "text/x-python",
   "name": "python",
   "nbconvert_exporter": "python",
   "pygments_lexer": "ipython3",
   "version": "3.12.8"
  }
 },
 "nbformat": 4,
 "nbformat_minor": 5
}
